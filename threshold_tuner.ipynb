{
  "nbformat": 4,
  "nbformat_minor": 0,
  "metadata": {
    "colab": {
      "name": "threshold_tuner.ipynb",
      "provenance": [],
      "collapsed_sections": [],
      "toc_visible": true,
      "authorship_tag": "ABX9TyM015cnbfw9DtWZb1OhNYuG",
      "include_colab_link": true
    },
    "kernelspec": {
      "name": "python3",
      "display_name": "Python 3"
    },
    "language_info": {
      "name": "python"
    }
  },
  "cells": [
    {
      "cell_type": "markdown",
      "metadata": {
        "id": "view-in-github",
        "colab_type": "text"
      },
      "source": [
        "<a href=\"https://colab.research.google.com/github/lukekolbe/AL-in-CreditScoring/blob/main/threshold_tuner.ipynb\" target=\"_parent\"><img src=\"https://colab.research.google.com/assets/colab-badge.svg\" alt=\"Open In Colab\"/></a>"
      ]
    },
    {
      "cell_type": "code",
      "execution_count": 1,
      "metadata": {
        "colab": {
          "base_uri": "https://localhost:8080/"
        },
        "id": "bJHtC7q2iPZe",
        "outputId": "cc600377-cc46-4062-a1ff-f3ab35dbdfa4"
      },
      "outputs": [
        {
          "output_type": "stream",
          "name": "stdout",
          "text": [
            "Mounted at /gdrive\n"
          ]
        }
      ],
      "source": [
        "from google.colab import drive\n",
        "drive.mount('/gdrive', force_remount=True)"
      ]
    },
    {
      "cell_type": "code",
      "source": [
        "############ LIBRARIES\n",
        "\n",
        "import os\n",
        "import random\n",
        "import multiprocessing\n",
        "import pickle\n",
        "import copy\n",
        "import gc\n",
        "import sys\n",
        "import json\n",
        "gc.enable()\n",
        "\n",
        "import warnings\n",
        "warnings.filterwarnings('ignore')\n",
        "\n",
        "\n",
        "import numpy as np\n",
        "import pandas as pd\n",
        "pd.set_option('display.max_columns', None)\n",
        "import matplotlib.pyplot as plt\n",
        "import seaborn as sns\n",
        "\n",
        "\n",
        "from sklearn.model_selection import train_test_split\n",
        "from sklearn.model_selection import StratifiedKFold  ##### what is this used for?\n",
        "from sklearn.model_selection import StratifiedShuffleSplit\n",
        "\n",
        "from sklearn.linear_model import LogisticRegression\n",
        "\n",
        "from sklearn.metrics import confusion_matrix\n",
        "from sklearn.metrics import ConfusionMatrixDisplay\n",
        "\n",
        "\n",
        "############ RANDOMNESS\n",
        "# seed function\n",
        "def seed_everything(seed):\n",
        "    os.environ['PYTHONHASHSEED'] = str(seed)\n",
        "    random.seed(seed)\n",
        "    np.random.seed(seed)\n",
        "    \n",
        "# set seed\n",
        "seed = 30\n",
        "seed_everything(seed)\n"
      ],
      "metadata": {
        "id": "bC8hsl-MiXi5"
      },
      "execution_count": 2,
      "outputs": []
    },
    {
      "cell_type": "code",
      "source": [
        "os.chdir('/gdrive/My Drive/ACTIVE LEARNING THESIS/')"
      ],
      "metadata": {
        "id": "lbR8Rtsw3q8D"
      },
      "execution_count": 3,
      "outputs": []
    },
    {
      "cell_type": "code",
      "source": [
        "'''if len(y) > 25000:\n",
        "    validation_size = 5000\n",
        "    folds = 3\n",
        "    sss = StratifiedShuffleSplit(n_splits=1, test_size=validation_size, random_state=seed) #\n",
        "    for model, validation in sss.split(X=X, y=y):\n",
        "        model_idx, validation_idx = np.asarray(model), np.asarray(validation)\n",
        "\n",
        "    print(np.sum(model_idx), np.sum(validation_idx))\n",
        "    X_val, y_val = X[validation_idx,:], y[validation_idx]\n",
        "    #X_model, y_model = X[model_idx,:], y[model_idx]\n",
        "\n",
        "elif len(y) < 2000:\n",
        "    folds = 10\n",
        "    X_val, y_val = X, y\n",
        "\n",
        "else:\n",
        "    folds = 5\n",
        "    X_val, y_val = X, y\n",
        "    \n",
        "print(np.shape(X), np.shape(X_val), 'folds: ', folds)'''"
      ],
      "metadata": {
        "id": "F1NJylrvjytO"
      },
      "execution_count": null,
      "outputs": []
    },
    {
      "cell_type": "code",
      "source": [
        "folds = 10\n",
        "#X_val, y_val = X, y"
      ],
      "metadata": {
        "id": "BSlR5-Oz-Zf-"
      },
      "execution_count": 4,
      "outputs": []
    },
    {
      "cell_type": "code",
      "source": [
        "# loader function that unpacks tuning results and extracts parameters for different model steps\n",
        "\n",
        "def param_getter(tuned=False, dataset=None):\n",
        "  if tuned:\n",
        "    filename = f'{dataset}_tuned-params'\n",
        "\n",
        "    with open(filename, 'r') as f:\n",
        "      param_list = [json.loads(line) for line in f if line.startswith('{')]\n",
        "\n",
        "    param_dict = {}\n",
        "    for i in range(len(param_list)):\n",
        "      strategy_short = list(param_list[i].keys())[0]\n",
        "      param_dict[strategy_short] = param_list[i][list(param_list[i].keys())[0]]\n",
        "\n",
        "  else:\n",
        "    param_dict = {'oracle': {'strategy_name': 'Oracle'}\n",
        "                  ,'score': {'strategy_name': 'Score'}\n",
        "                  ,'random': {'strategy_name': 'QueryInstanceRandom'}\n",
        "                  ,'unc': {'strategy_name': 'QueryInstanceUncertainty'}\n",
        "                  ,'qbc': {'strategy_name': 'QueryInstanceQBC'}\n",
        "                  ,'eer': {'strategy_name': 'QueryExpectedErrorReduction'}\n",
        "                  ,'dw': {'strategy_name': 'QueryInstanceDensityWeighted'}\n",
        "                  ,'density':{'strategy_name': 'QueryInstanceGraphDensity'}\n",
        "                  ,'cors' :  {'strategy_name': 'QueryInstanceCoresetGreedy'}\n",
        "                  ,'quire': {'strategy_name': 'QueryInstanceQUIRE'}\n",
        "                  ,'bmdr': {'strategy_name': 'QueryInstanceBMDR'}\n",
        "                  ,'spal': {'strategy_name': 'QueryInstanceSPAL'}\n",
        "                  ,'lal': {'strategy_name': 'QueryInstanceLAL'}\n",
        "                  }\n",
        "  \n",
        "  return param_dict"
      ],
      "metadata": {
        "id": "JuWvXMlvlPM7"
      },
      "execution_count": 5,
      "outputs": []
    },
    {
      "cell_type": "code",
      "source": [
        "def cost_tuner(y, pred_raw, y_mean, thres_array, fn_cost = None):\n",
        "  if fn_cost == None:\n",
        "    fn_cost = (1-y_mean)/y_mean # set fn cost to the inverse of the probability of the rare class; fix cost of fp to 1\n",
        "  \n",
        "  #print(fn_cost)\n",
        "\n",
        "  cost_list = []\n",
        "  for t in thres_array:\n",
        "    pred_thres =  (pred_raw[:,1] >= t).astype(int)\n",
        "    tn, fp, fn, tp = confusion_matrix(y, pred_thres).ravel()\n",
        "    cost = fp + fn*fn_cost\n",
        "    cost_list.append(cost)\n",
        "\n",
        "\n",
        "  return cost_list\n",
        "\n",
        "'''  cost_min = min(cost_list)\n",
        "  cost_min_index = cost_list.index(cost_min)\n",
        "  best_thres = thres_arr.index(cost_min_index)'''\n",
        "\n"
      ],
      "metadata": {
        "colab": {
          "base_uri": "https://localhost:8080/",
          "height": 35
        },
        "id": "vm9LDqirlG4w",
        "outputId": "d3f71ca5-5ff0-488c-969e-1345681f5edf"
      },
      "execution_count": 6,
      "outputs": [
        {
          "output_type": "execute_result",
          "data": {
            "application/vnd.google.colaboratory.intrinsic+json": {
              "type": "string"
            },
            "text/plain": [
              "'  cost_min = min(cost_list)\\n  cost_min_index = cost_list.index(cost_min)\\n  best_thres = thres_arr.index(cost_min_index)'"
            ]
          },
          "metadata": {},
          "execution_count": 6
        }
      ]
    },
    {
      "cell_type": "code",
      "source": [
        "def threshold_finder(X,y,dataset,folds):\n",
        "  param_dict = param_getter(tuned=True, dataset=dataset) # load tuned parameters\n",
        "  clf = LogisticRegression(**param_dict['random']['CLF']) #set up tuned classifier\n",
        "  \n",
        "  skf = StratifiedKFold(n_splits=folds, shuffle = True, random_state=seed)\n",
        "  idx = []\n",
        "  for train_index, test_index in skf.split(X, y):\n",
        "    idx.append((train_index, test_index))\n",
        "\n",
        "  cost_list = []\n",
        "  thres_arr =  [i for i in iter(np.linspace(0, 1, 1001))]\n",
        "\n",
        "  for f in range(folds-1):\n",
        "    train_idx = idx[f][0]\n",
        "    test_idx = idx[f][1]\n",
        "\n",
        "    clf.fit(X[train_idx,:], y[train_idx])\n",
        "    probabilities = clf.predict_proba(X[test_idx,:])\n",
        "\n",
        "    y_mean = np.mean(y[train_idx])\n",
        "\n",
        "    cost_list.append(cost_tuner(y[test_idx], probabilities, y_mean, thres_arr, fn_cost = None))\n",
        "\n",
        "  mean_cost = np.mean(cost_list, axis = 0)\n",
        "  cost_min = min(mean_cost)\n",
        "  cost_min_index = np.where(mean_cost == mean_cost.min())[0][0]\n",
        "  best_thres = thres_arr[cost_min_index]\n",
        "\n",
        "  return best_thres\n",
        "\n"
      ],
      "metadata": {
        "id": "sD-RRYv6USWg"
      },
      "execution_count": 7,
      "outputs": []
    },
    {
      "cell_type": "code",
      "source": [
        "############ DATA IMPORT\n",
        "\n",
        "## available datasets\n",
        "# bene1         # some \n",
        "\n",
        "    # OK gmsc          # shape:  (150000, 68)\n",
        "    # OK uk            # very low bad rate, shape:  (30000, 51), y mean:  0.04\n",
        "    # OK lendingclub   # loooow performance, X shape:  (41623, 114) y shape:  (41623,) y mean:  0.1331235134420873    \n",
        "    \n",
        "    # OK bene2         # some learning, shape:  (7190, 28) >> 3 folds NO WASTE\n",
        "    \n",
        "    # bene1_nobins  # shape:  (3123, 18) # 5 folds NO WASTE\n",
        "        # hmeq          # not promising either, shape:  (5960, 20) # 5 folds NO WASTE\n",
        "        # australian    # very small dataset shape:  (690, 42) >> 10 folds NO WASTE\n",
        "        # german        # shape:  (1000, 61) >> 10 folds NO WASTE\n",
        "        # thomas        # loooow performance shape:  (1225, 28) >> 10 folds NO WASTE\n",
        "\n",
        "# pakdd         # shape:  (50000, 373), y mean:  0.26082\n",
        "\n",
        "data_name = \"bene2\"\n",
        "dataset_list = [\"bene2\", \"bene1_nobins\",\"gmsc\", \"uk\", \"lendingclub\", \"hmeq\", \"australian\", \"german\", \"thomas\", \"pakdd\"]\n",
        "\n",
        "def data_loader(dataset):\n",
        "\n",
        "  # C:\\\\Users\\\\kolbeluk1\\\\AL_THESIS\n",
        "  #df = pd.read_csv('C:\\\\Users\\\\kolbeluk1\\\\AL_THESIS\\\\prepared_data\\\\{}.csv'.format(dataset))\n",
        "  df = pd.read_csv('/gdrive/My Drive/ACTIVE LEARNING THESIS/prepared_data/{}.csv'.format(dataset))\n",
        "\n",
        "  # remove NA\n",
        "  df = df.dropna()\n",
        "  df.reset_index(drop = True, inplace = True)\n",
        "\n",
        "  #print(df)\n",
        "  # extract label\n",
        "  df['BAD'][df['BAD']=='BAD']  = 1\n",
        "  df['BAD'][df['BAD']=='GOOD'] = 0\n",
        "  df['BAD'] = df['BAD'].astype('int')\n",
        "\n",
        "\n",
        "  y_temp = df['BAD']\n",
        "  del df['BAD']\n",
        "\n",
        "  #one hot encoding\n",
        "  df = pd.get_dummies(df)\n",
        "\n",
        "  #transform to numpy array >> same location for df and X\n",
        "  X = df.to_numpy()\n",
        "  y = y_temp.to_numpy()\n",
        "\n",
        "  print(\"X type: \", type(X), \"X shape: \",X.shape,\"y shape: \", y.shape, \"y mean: \", np.mean(y))\n",
        "  print (id(X), id(df))\n",
        "  #print(y)\n",
        "\n",
        "  return X,y\n",
        "\n",
        "\n",
        "# append_record: helper function that adds best-parameter for every model to dict and saves it\n",
        "def append_record(record, filename):\n",
        "    with open(f'{filename}', 'a') as f:\n",
        "        json.dump(record, f)\n",
        "        f.write(os.linesep)\n",
        "\n",
        "filename = 'tuned_thresholds'"
      ],
      "metadata": {
        "id": "xYWS_zQwjhy9"
      },
      "execution_count": 8,
      "outputs": []
    },
    {
      "cell_type": "code",
      "source": [
        "threshold_dict = {}\n",
        "for d in dataset_list:\n",
        "  X,y = data_loader(d)\n",
        "\n",
        "  cost_threshold = threshold_finder(X, y, d, 10)\n",
        "\n",
        "  threshold_dict[f'{d}'] = copy.deepcopy(cost_threshold)\n",
        "\n",
        "  with open(f'{filename}', 'wb') as a_file:\n",
        "    pickle.dump(threshold_dict, a_file)\n",
        "\n",
        "a_file.close()"
      ],
      "metadata": {
        "colab": {
          "base_uri": "https://localhost:8080/"
        },
        "id": "E_CXhIivVYA9",
        "outputId": "3257f7cb-e6fd-4395-f3e7-3e3c8d01c620"
      },
      "execution_count": null,
      "outputs": [
        {
          "output_type": "stream",
          "name": "stdout",
          "text": [
            "X type:  <class 'numpy.ndarray'> X shape:  (7190, 28) y shape:  (7190,) y mean:  0.3\n",
            "139635390439312 139635463126096\n",
            "X type:  <class 'numpy.ndarray'> X shape:  (3123, 18) y shape:  (3123,) y mean:  0.3333333333333333\n",
            "139635391124080 139635462958992\n",
            "X type:  <class 'numpy.ndarray'> X shape:  (150000, 68) y shape:  (150000,) y mean:  0.06684\n",
            "139635463249808 139635464531792\n",
            "X type:  <class 'numpy.ndarray'> X shape:  (30000, 51) y shape:  (30000,) y mean:  0.04\n",
            "139635391124080 139635463021840\n",
            "X type:  <class 'numpy.ndarray'> X shape:  (41623, 114) y shape:  (41623,) y mean:  0.1331235134420873\n",
            "139635391123600 139635463021584\n",
            "X type:  <class 'numpy.ndarray'> X shape:  (5960, 20) y shape:  (5960,) y mean:  0.199496644295302\n",
            "139635390438640 139635833966736\n",
            "X type:  <class 'numpy.ndarray'> X shape:  (690, 42) y shape:  (690,) y mean:  0.4449275362318841\n",
            "139635390438448 139635463864784\n",
            "X type:  <class 'numpy.ndarray'> X shape:  (1000, 61) y shape:  (1000,) y mean:  0.3\n",
            "139635463249808 139635391331920\n",
            "X type:  <class 'numpy.ndarray'> X shape:  (1225, 28) y shape:  (1225,) y mean:  0.2636734693877551\n",
            "139635506847888 139635462768592\n",
            "X type:  <class 'numpy.ndarray'> X shape:  (50000, 373) y shape:  (50000,) y mean:  0.26082\n",
            "139635463428304 139635506840144\n"
          ]
        }
      ]
    },
    {
      "cell_type": "code",
      "source": [
        "infile = open(f'{filename}','rb')\n",
        "tuned_thresholds = pickle.load(infile)\n",
        "infile.close()\n",
        "\n",
        "tuned_thresholds"
      ],
      "metadata": {
        "colab": {
          "base_uri": "https://localhost:8080/"
        },
        "id": "uAi8icySZi_e",
        "outputId": "12f4137d-801f-4fa0-afac-9a64bc5bd9d4"
      },
      "execution_count": null,
      "outputs": [
        {
          "output_type": "execute_result",
          "data": {
            "text/plain": [
              "{'australian': 0.428,\n",
              " 'bene1_nobins': 0.34600000000000003,\n",
              " 'bene2': 0.334,\n",
              " 'german': 0.309,\n",
              " 'gmsc': 0.056,\n",
              " 'hmeq': 0.241,\n",
              " 'lendingclub': 0.136,\n",
              " 'pakdd': 0.275,\n",
              " 'thomas': 0.254,\n",
              " 'uk': 0.041}"
            ]
          },
          "metadata": {},
          "execution_count": 34
        }
      ]
    },
    {
      "cell_type": "markdown",
      "source": [
        "# RUN FOR SINGLE DATASET"
      ],
      "metadata": {
        "id": "H2PQa0yKY4Va"
      }
    },
    {
      "cell_type": "code",
      "source": [
        "data_name = \"bene1_nobins\"\n",
        "\n",
        "X,y = data_loader(data_name)\n",
        "#filename = f'{data_name}_threshold'\n"
      ],
      "metadata": {
        "colab": {
          "base_uri": "https://localhost:8080/"
        },
        "id": "dSPA4tB_QcK3",
        "outputId": "9a435ce3-ce98-4780-eec3-21c1378dc013"
      },
      "execution_count": 10,
      "outputs": [
        {
          "output_type": "stream",
          "name": "stdout",
          "text": [
            "X type:  <class 'numpy.ndarray'> X shape:  (3123, 18) y shape:  (3123,) y mean:  0.3333333333333333\n",
            "139701778341936 139701204717136\n"
          ]
        }
      ]
    },
    {
      "cell_type": "code",
      "source": [
        "param_dict = param_getter(tuned=True, dataset = data_name) # load tuned parameters\n",
        "clf = LogisticRegression(**param_dict['random']['CLF'])\n",
        "print(clf)"
      ],
      "metadata": {
        "colab": {
          "base_uri": "https://localhost:8080/"
        },
        "id": "4GntZUPTlHAQ",
        "outputId": "cdc7b159-7a21-4ded-fe41-e0072f0dfd39"
      },
      "execution_count": 11,
      "outputs": [
        {
          "output_type": "stream",
          "name": "stdout",
          "text": [
            "LogisticRegression(C=0.1, max_iter=50, penalty='l1', solver='liblinear')\n"
          ]
        }
      ]
    },
    {
      "cell_type": "code",
      "source": [
        "skf = StratifiedKFold(n_splits=folds, shuffle = True, random_state=seed)\n",
        "idx = []\n",
        "for train_index, test_index in skf.split(X, y):\n",
        "  idx.append((train_index, test_index))\n",
        "\n",
        "print(np.shape(idx))\n",
        "cost_list = []\n",
        "thres_arr =  [i for i in iter(np.linspace(0, 1, 101))]\n",
        "#print(thres_arr)\n",
        "\n",
        "\n",
        "for f in range(folds-1):\n",
        "  train_idx = idx[f][0]\n",
        "  test_idx = idx[f][1]\n",
        "\n",
        "  clf.fit(X[train_idx,:], y[train_idx])\n",
        "  probabilities = clf.predict_proba(X[test_idx,:])\n",
        "\n",
        "  y_mean = np.mean(y[train_idx])\n",
        "  print(f'y mean of fold {f}: ', y_mean)\n",
        "  print('FN cost (if computed): ',(1-y_mean)/y_mean)\n",
        "\n",
        "  cost_list.append(cost_tuner(y[test_idx], probabilities, y_mean, thres_arr, fn_cost = None))\n",
        "\n",
        "#print(cost_list)\n",
        "#print('len cost list ', len(cost_list))\n",
        "\n",
        "mean_cost = np.mean(cost_list, axis = 0)\n",
        "print(mean_cost)\n",
        "\n",
        "cost_min = min(mean_cost)\n",
        "print(cost_min)\n",
        "cost_min_index = np.where(mean_cost == mean_cost.min())[0][0]\n",
        "print(cost_min_index)\n",
        "\n",
        "best_thres = thres_arr[cost_min_index]\n",
        "print(best_thres)\n",
        "\n",
        "\n",
        "train_idx = idx[folds-1][0]\n",
        "test_idx = idx[folds-1][1]\n",
        "clf.fit(X[train_idx,:], y[train_idx])\n",
        "probabilities = clf.predict_proba(X[test_idx,:])\n",
        "print('mean of prediction: ', np.mean(probabilities))\n",
        "\n",
        "sns.set_style('whitegrid')\n",
        "sns.kdeplot(probabilities[:,1]).set_title('Density Plot of prediction')\n",
        "plt.show()\n",
        "    \n",
        "\n",
        "pred_thres = (probabilities[:,1] >= best_thres).astype(int)\n",
        "print('percentage kept: ',1-np.mean(pred_thres))\n",
        "\n",
        "disp = ConfusionMatrixDisplay.from_predictions(\n",
        "    y[test_idx],\n",
        "    pred_thres,\n",
        ")\n",
        "print(disp.confusion_matrix)\n",
        "\n",
        "plt.show()\n",
        "\n",
        "\n"
      ],
      "metadata": {
        "colab": {
          "base_uri": "https://localhost:8080/",
          "height": 1000
        },
        "id": "9LnoyzO-qI9R",
        "outputId": "703f491c-e57a-437f-b063-5c877c2d578e"
      },
      "execution_count": 15,
      "outputs": [
        {
          "output_type": "stream",
          "name": "stdout",
          "text": [
            "(10, 2)\n",
            "y mean of fold 0:  0.3330960854092527\n",
            "FN cost (if computed):  2.002136752136752\n",
            "y mean of fold 1:  0.3334519572953737\n",
            "FN cost (if computed):  1.998932764140875\n",
            "y mean of fold 2:  0.3334519572953737\n",
            "FN cost (if computed):  1.998932764140875\n",
            "y mean of fold 3:  0.3333333333333333\n",
            "FN cost (if computed):  2.0000000000000004\n",
            "y mean of fold 4:  0.3333333333333333\n",
            "FN cost (if computed):  2.0000000000000004\n",
            "y mean of fold 5:  0.3333333333333333\n",
            "FN cost (if computed):  2.0000000000000004\n",
            "y mean of fold 6:  0.3333333333333333\n",
            "FN cost (if computed):  2.0000000000000004\n",
            "y mean of fold 7:  0.3333333333333333\n",
            "FN cost (if computed):  2.0000000000000004\n",
            "y mean of fold 8:  0.3333333333333333\n",
            "FN cost (if computed):  2.0000000000000004\n",
            "[208.22222222 199.44432586 194.22210364 190.33309617 187.6664295\n",
            " 184.77754061 181.99976284 178.11087395 174.77754061 171.99976284\n",
            " 169.11134878 167.44432637 164.11123045 160.44456379 158.33345268\n",
            " 156.2228164  152.44503862 151.00083159 149.33404634 147.44515746\n",
            " 146.11206154 144.2231729  142.00095093 140.22388541 138.1127743\n",
            " 134.77967838 133.44610814 132.00130795 130.44563406 128.6680937\n",
            " 128.22376835 126.33464229 126.66773872 126.77861266 126.22305762\n",
            " 127.11111643 129.77825869 130.11088079 127.99976993 130.11040722\n",
            " 130.44362248 131.5550901  129.99989105 131.55604078 132.11112251\n",
            " 135.77897702 139.44588187 143.22413499 147.66846136 150.22425484\n",
            " 152.44624065 156.44636    159.89139862 164.11421501 167.44695595\n",
            " 168.66882242 172.22414107 175.77957829 179.33477836 181.66799362\n",
            " 185.11196399 187.88950486 190.77851283 193.44494259 197.66680957\n",
            " 199.33395158 200.55605547 202.7786342  204.55617482 205.66704876\n",
            " 207.22248574 207.44494538 207.66704902 208.11137488 208.3335971\n",
            " 208.3335971  208.3335971  208.3335971  208.22248599 208.22248599\n",
            " 208.22248599 208.22248599 208.22248599 208.22248599 208.22248599\n",
            " 208.22248599 208.22248599 208.22248599 208.22248599 208.22248599\n",
            " 208.22248599 208.22248599 208.22248599 208.22248599 208.22248599\n",
            " 208.22248599 208.22248599 208.22248599 208.22248599 208.22248599\n",
            " 208.22248599]\n",
            "126.22305761553359\n",
            "34\n",
            "0.34\n",
            "mean of prediction:  0.5\n"
          ]
        },
        {
          "output_type": "display_data",
          "data": {
            "image/png": "[encoded data removed]",
            "text/plain": [
              "<Figure size 432x288 with 1 Axes>"
            ]
          },
          "metadata": {}
        },
        {
          "output_type": "stream",
          "name": "stdout",
          "text": [
            "percentage kept:  0.5064102564102564\n",
            "[[132  76]\n",
            " [ 26  78]]\n"
          ]
        },
        {
          "output_type": "display_data",
          "data": {
            "image/png": "[encoded data removed]",
            "text/plain": [
              "<Figure size 432x288 with 2 Axes>"
            ]
          },
          "metadata": {}
        }
      ]
    },
    {
      "cell_type": "code",
      "source": [
        "skf = StratifiedKFold(n_splits=folds, shuffle = True, random_state=seed)\n",
        "idx = []\n",
        "for train_index, test_index in skf.split(X, y):\n",
        "  idx.append((train_index, test_index))\n",
        "\n",
        "print(data_name)\n",
        "print(np.shape(idx))\n",
        "cost_list = []\n",
        "thres_arr =  [i for i in iter(np.linspace(0, 1, 101))]\n",
        "#print(thres_arr)\n",
        "\n",
        "\n",
        "for f in range(folds-1):\n",
        "  train_idx = idx[f][0]\n",
        "  test_idx = idx[f][1]\n",
        "\n",
        "  clf.fit(X[train_idx,:], y[train_idx])\n",
        "  probabilities = clf.predict_proba(X[test_idx,:])\n",
        "\n",
        "  y_mean = np.mean(y[train_idx])\n",
        "  print(f'y mean of fold {f}: ', y_mean)\n",
        "  print('FN cost (if computed): ',(1-y_mean)/y_mean)\n",
        "\n",
        "  cost_list.append(cost_tuner(y[test_idx], probabilities, y_mean, thres_arr, fn_cost = None))\n",
        "\n",
        "#print(cost_list)\n",
        "#print('len cost list ', len(cost_list))\n",
        "\n",
        "mean_cost = np.mean(cost_list, axis = 0)\n",
        "print(mean_cost)\n",
        "\n",
        "cost_min = min(mean_cost)\n",
        "print(cost_min)\n",
        "cost_min_index = np.where(mean_cost == mean_cost.min())[0][0]\n",
        "print(cost_min_index)\n",
        "\n",
        "best_thres = thres_arr[cost_min_index]\n",
        "print(best_thres)\n",
        "\n",
        "\n",
        "train_idx = idx[folds-1][0]\n",
        "test_idx = idx[folds-1][1]\n",
        "clf.fit(X[train_idx,:], y[train_idx])\n",
        "probabilities = clf.predict_proba(X[test_idx,:])\n",
        "\n",
        "sns.set_style('whitegrid')\n",
        "sns.kdeplot(probabilities[:,1]).set_title('Density Plot of prediction')\n",
        "plt.show()\n",
        "    \n",
        "\n",
        "pred_thres = (probabilities[:,1] > best_thres).astype(int)\n",
        "print('percentage kept: ',1-np.mean(pred_thres))\n",
        "\n",
        "disp = ConfusionMatrixDisplay.from_predictions(\n",
        "    y[test_idx],\n",
        "    pred_thres,\n",
        ")\n",
        "print(disp.confusion_matrix)\n",
        "\n",
        "plt.show()\n",
        "\n",
        "\n"
      ],
      "metadata": {
        "colab": {
          "base_uri": "https://localhost:8080/",
          "height": 1000
        },
        "id": "Q0h9qIHVxJ8X",
        "outputId": "dbeb8647-bca7-465f-8efc-6ad3a4d84404"
      },
      "execution_count": null,
      "outputs": [
        {
          "output_type": "stream",
          "name": "stdout",
          "text": [
            "lendingclub\n",
            "(10, 2)\n",
            "y mean of fold 0:  0.13312867058195407\n",
            "FN cost (if computed):  6.511529977942652\n",
            "y mean of fold 1:  0.13312867058195407\n",
            "FN cost (if computed):  6.511529977942652\n",
            "y mean of fold 2:  0.13310197544046984\n",
            "FN cost (if computed):  6.513036502206177\n",
            "y mean of fold 3:  0.13312511678812633\n",
            "FN cost (if computed):  6.511730499298174\n",
            "y mean of fold 4:  0.13312511678812633\n",
            "FN cost (if computed):  6.511730499298174\n",
            "y mean of fold 5:  0.13312511678812633\n",
            "FN cost (if computed):  6.511730499298174\n",
            "y mean of fold 6:  0.13312511678812633\n",
            "FN cost (if computed):  6.511730499298174\n",
            "y mean of fold 7:  0.13312511678812633\n",
            "FN cost (if computed):  6.511730499298174\n",
            "y mean of fold 8:  0.13312511678812633\n",
            "FN cost (if computed):  6.511730499298174\n",
            "[3608.22222222 3604.28443983 3590.61777317 3564.73941194 3519.34180037\n",
            " 3432.29916934 3326.4607353  3209.80734082 3110.66555401 3044.25586098\n",
            " 2963.36979837 2915.86295361 2881.57109584 2860.85945484 2863.3941895\n",
            " 2886.35715833 2881.31634923 2969.10442004 3021.13204645 3071.12132524\n",
            " 3122.92743949 3204.54001751 3282.45216357 3344.03321459 3403.86278578\n",
            " 3464.99752934 3513.70302295 3544.57865863 3568.09455842 3587.31784041\n",
            " 3597.8505034  3604.81455467 3608.32682105 3608.21846183 3608.27532077\n",
            " 3608.44329083 3608.22106861 3608.10995749 3608.10995749 3607.99884638\n",
            " 3608.50029488 3608.50029488 3608.50029488 3608.38918377 3608.38918377\n",
            " 3608.27807266 3608.27807266 3608.27807266 3608.27807266 3608.27807266\n",
            " 3608.27807266 3608.27807266 3608.27807266 3608.27807266 3608.27807266\n",
            " 3608.27807266 3608.27807266 3608.27807266 3608.27807266 3608.27807266\n",
            " 3608.27807266 3608.27807266 3608.27807266 3608.27807266 3608.27807266\n",
            " 3608.27807266 3608.27807266 3608.27807266 3608.27807266 3608.27807266\n",
            " 3608.27807266 3608.27807266 3608.27807266 3608.27807266 3608.27807266\n",
            " 3608.27807266 3608.27807266 3608.27807266 3608.27807266 3608.27807266\n",
            " 3608.27807266 3608.27807266 3608.27807266 3608.27807266 3608.27807266\n",
            " 3608.27807266 3608.27807266 3608.27807266 3608.27807266 3608.27807266\n",
            " 3608.27807266 3608.27807266 3608.27807266 3608.27807266 3608.27807266\n",
            " 3608.27807266 3608.27807266 3608.27807266 3608.27807266 3608.27807266\n",
            " 3608.27807266]\n",
            "2860.85945484377\n",
            "13\n",
            "0.13\n"
          ]
        },
        {
          "output_type": "display_data",
          "data": {
            "image/png": "[encoded data removed]",
            "text/plain": [
              "<Figure size 432x288 with 1 Axes>"
            ]
          },
          "metadata": {}
        },
        {
          "output_type": "stream",
          "name": "stdout",
          "text": [
            "percentage kept:  0.4891878904372897\n",
            "[[1867 1741]\n",
            " [ 169  385]]\n"
          ]
        },
        {
          "output_type": "display_data",
          "data": {
            "image/png": "[encoded data removed]",
            "text/plain": [
              "<Figure size 432x288 with 2 Axes>"
            ]
          },
          "metadata": {}
        }
      ]
    },
    {
      "cell_type": "code",
      "source": [
        ""
      ],
      "metadata": {
        "id": "hPWLWfKg93cB"
      },
      "execution_count": null,
      "outputs": []
    }
  ]
}